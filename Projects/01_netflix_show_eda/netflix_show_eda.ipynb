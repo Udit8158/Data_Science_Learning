{
 "cells": [
  {
   "cell_type": "markdown",
   "id": "03b1b7b0-a3c5-499c-86c8-19c401a0b9ed",
   "metadata": {},
   "source": [
    "# Netflix Show EDA "
   ]
  },
  {
   "cell_type": "markdown",
   "id": "1a3a5bc1-935e-47f7-8fb4-17e99e9f744a",
   "metadata": {},
   "source": [
    "## Import Stuff"
   ]
  },
  {
   "cell_type": "code",
   "execution_count": null,
   "id": "42452b6e-5911-4536-b4ac-d0a3e46e8beb",
   "metadata": {
    "tags": []
   },
   "outputs": [],
   "source": [
    "import pandas as pd\n",
    "import numpy as np\n",
    "import matplotlib.pyplot as plt"
   ]
  },
  {
   "cell_type": "markdown",
   "id": "1c1393ec-c05d-43ae-8830-c8ea7f10f44d",
   "metadata": {},
   "source": [
    "## Read Data"
   ]
  },
  {
   "cell_type": "code",
   "execution_count": null,
   "id": "32c4b04a-76ce-47bd-8d09-18b3b0da1ab8",
   "metadata": {
    "tags": []
   },
   "outputs": [],
   "source": [
    "data = pd.read_csv(\"./data/netflix_titles.csv\")\n",
    "data"
   ]
  },
  {
   "cell_type": "markdown",
   "id": "233880f0-6dac-4730-83aa-17733183f0a9",
   "metadata": {},
   "source": [
    "## Explore Data"
   ]
  },
  {
   "cell_type": "code",
   "execution_count": null,
   "id": "5a81ddcf-8037-440d-a113-04519783f7c5",
   "metadata": {
    "tags": []
   },
   "outputs": [],
   "source": [
    "data.shape"
   ]
  },
  {
   "cell_type": "code",
   "execution_count": null,
   "id": "cea64d77-aef4-4b43-bff7-87639b75821d",
   "metadata": {
    "tags": []
   },
   "outputs": [],
   "source": [
    "data.info()"
   ]
  },
  {
   "cell_type": "code",
   "execution_count": null,
   "id": "3e451b51-4b8c-4702-a0e6-7b07dcfc0138",
   "metadata": {},
   "outputs": [],
   "source": []
  },
  {
   "cell_type": "markdown",
   "id": "ab6ffe06-9671-4ef2-b276-6c0dea5e65b5",
   "metadata": {},
   "source": [
    "##  Some Insights From Data and Set Goals\n",
    "1. ### Movies and TV show trend country wise and cleaning data for this"
   ]
  },
  {
   "cell_type": "code",
   "execution_count": null,
   "id": "c1cc3fe2-30c4-48e2-9ebd-db36812d2093",
   "metadata": {
    "tags": []
   },
   "outputs": [],
   "source": [
    "movies = data[data.type == 'Movie' ]\n",
    "tv_shows = data[data.type == 'TV Show']\n",
    "movies_country = movies[\"country\"]\n",
    "tv_shows_country = tv_shows['country']\n",
    "                \n",
    "\n"
   ]
  },
  {
   "cell_type": "code",
   "execution_count": null,
   "id": "8b75b3bc-ec48-400a-af43-b4571d1c23fb",
   "metadata": {
    "tags": []
   },
   "outputs": [],
   "source": [
    "movies.shape"
   ]
  },
  {
   "cell_type": "code",
   "execution_count": null,
   "id": "c0539db5-1bfc-4e8f-b9d8-55aff92ef391",
   "metadata": {
    "tags": []
   },
   "outputs": [],
   "source": [
    "movies.info()"
   ]
  },
  {
   "cell_type": "code",
   "execution_count": null,
   "id": "86418061-a746-4011-b9f2-54118d7343ae",
   "metadata": {
    "tags": []
   },
   "outputs": [],
   "source": [
    "movies_country = movies_country.dropna() # movies data cleaning\n",
    "movies_country\n",
    "tv_shows_country = tv_shows_country.dropna() # tv shows data cleaning"
   ]
  },
  {
   "cell_type": "markdown",
   "id": "e8ea0247-ae06-4329-bc7b-f68b4b5463cc",
   "metadata": {},
   "source": [
    "### Counry row set but not duplicate"
   ]
  },
  {
   "cell_type": "code",
   "execution_count": null,
   "id": "a9c75478-5c44-49c1-9aec-e8a9cda2f56c",
   "metadata": {
    "tags": []
   },
   "outputs": [],
   "source": [
    "# count value of every unique values\n",
    "movies_country = movies_country.value_counts()[:11]\n",
    "tv_shows_country = tv_shows_country.value_counts()[:11]\n",
    "movies_country\n",
    "tv_shows_country"
   ]
  },
  {
   "cell_type": "code",
   "execution_count": null,
   "id": "ee2fafd1-1b3a-40fd-83e6-f58e736df981",
   "metadata": {
    "tags": []
   },
   "outputs": [],
   "source": []
  },
  {
   "cell_type": "markdown",
   "id": "aefcc11e-a667-44e7-a3a9-10f086fb68a8",
   "metadata": {},
   "source": [
    "2. ### Year on year tv shows and movies"
   ]
  },
  {
   "cell_type": "code",
   "execution_count": null,
   "id": "0003fb94-ebc6-4331-9752-c2e13275e691",
   "metadata": {
    "tags": []
   },
   "outputs": [],
   "source": [
    "movies_year = movies[['show_id', 'type', 'date_added']]\n",
    "# movies_year.groupby('release_year')['type'].nunique()\n",
    "movies_year.loc['date_added'] = pd.to_datetime(movies_year['date_added'])\n",
    "movies_year = movies_year.dropna()\n",
    "movies_year.info()\n",
    "### IGNOER WARNING MESSAGE FOR NOW ###"
   ]
  },
  {
   "cell_type": "code",
   "execution_count": null,
   "id": "ad7de086-30d4-4d01-94e8-c5e35e1580e6",
   "metadata": {
    "tags": []
   },
   "outputs": [],
   "source": [
    "movies_year.date_added = pd.DatetimeIndex(movies_year['date_added']).year\n",
    "movies_year"
   ]
  },
  {
   "cell_type": "markdown",
   "id": "d30d6657-1c0d-491f-be44-8687080c9281",
   "metadata": {},
   "source": [
    "#### __Add unique values but not in increasing order very very importnant__"
   ]
  },
  {
   "cell_type": "code",
   "execution_count": null,
   "id": "d44a122e-4514-46b5-97f8-5970bc020a3a",
   "metadata": {
    "tags": []
   },
   "outputs": [],
   "source": [
    "movies_year = movies_year.groupby('date_added')['show_id'].nunique()\n",
    "movies_year"
   ]
  },
  {
   "cell_type": "code",
   "execution_count": null,
   "id": "dfa70165-2049-4b98-867b-3089ef87400e",
   "metadata": {
    "tags": []
   },
   "outputs": [],
   "source": [
    "type(movies_year)"
   ]
  },
  {
   "cell_type": "markdown",
   "id": "7c3f738f-da10-4a07-b0fa-d916149b84a3",
   "metadata": {},
   "source": [
    "### Movies and tv shows with year  **** COMPLICATED****"
   ]
  },
  {
   "cell_type": "code",
   "execution_count": null,
   "id": "d28924d9-da4b-4cbd-ab3c-1bbdf8e7f018",
   "metadata": {
    "tags": []
   },
   "outputs": [],
   "source": [
    "movies_tv_shows = data[['type','date_added']].dropna()\n",
    "movies_tv_shows.date_added = pd.DatetimeIndex(movies_tv_shows['date_added']).year\n",
    "movies_tv_shows = pd.DataFrame(movies_tv_shows.groupby(['date_added', 'type']).size()) ### COMPLICATED\n",
    "movies_tv_shows"
   ]
  },
  {
   "cell_type": "code",
   "execution_count": null,
   "id": "80993f0c-c2c8-4686-aaf0-c1bcbb1d980e",
   "metadata": {
    "tags": []
   },
   "outputs": [],
   "source": [
    "### Formating the data \n",
    "\n",
    "movies_tv_shows = movies_tv_shows.rename(columns={0: 'count'})\n",
    "movies_tv_shows = movies_tv_shows.reset_index().set_index('date_added')\n",
    "movies_tv_shows.head()"
   ]
  },
  {
   "cell_type": "markdown",
   "id": "f1fef915-c8ce-4608-9b03-b69b9bcd88f3",
   "metadata": {},
   "source": [
    "## Some Important Points from Data"
   ]
  },
  {
   "cell_type": "markdown",
   "id": "26fb5b13-70f1-41c0-a1ea-4f2c28154833",
   "metadata": {},
   "source": [
    "#### 1. Total 651 countries data are give in movie wise after cleaning. But We will do top 10 countries movie wise"
   ]
  },
  {
   "cell_type": "code",
   "execution_count": null,
   "id": "973b9701-36c8-46cd-bd29-539be7838b36",
   "metadata": {},
   "outputs": [],
   "source": []
  },
  {
   "cell_type": "code",
   "execution_count": null,
   "id": "e4c5108f-604f-4f38-a0d2-fbf981508364",
   "metadata": {},
   "outputs": [],
   "source": []
  },
  {
   "cell_type": "markdown",
   "id": "117967b9-76f5-464f-880e-3e318a1f791b",
   "metadata": {},
   "source": [
    "## Data Visualization"
   ]
  },
  {
   "cell_type": "markdown",
   "id": "90bae1e0-b047-46fc-a6cb-38edb943d5f9",
   "metadata": {},
   "source": [
    "### Top 10 country in Movies"
   ]
  },
  {
   "cell_type": "code",
   "execution_count": null,
   "id": "df303758-74f7-42b7-96b8-584ea68804cf",
   "metadata": {
    "tags": []
   },
   "outputs": [],
   "source": [
    "movies_country.plot.barh(title=\"Top 10 Countries in Movies in Netflix\", xlabel=\"Number of Movies till 2020\", ylabel=\"Country\")"
   ]
  },
  {
   "cell_type": "markdown",
   "id": "66bbb6a3-3950-4fc0-a9aa-77d18ca38cb5",
   "metadata": {},
   "source": [
    "### Top 10 Countries in TV Shows"
   ]
  },
  {
   "cell_type": "code",
   "execution_count": null,
   "id": "6864c074-b82c-4776-b176-44d5fe9cfbc6",
   "metadata": {
    "tags": []
   },
   "outputs": [],
   "source": [
    "tv_shows_country.plot.barh(title=\"Top 10 Countries in TV Shows in Netflix\", xlabel=\"Number of TV Shows till 2020\", ylabel=\"Country\")"
   ]
  },
  {
   "cell_type": "markdown",
   "id": "1f5b742a-094b-4189-9d0e-0b50c625cf01",
   "metadata": {},
   "source": [
    "## Movies Added Trend in Netflix in 2008 to 2021"
   ]
  },
  {
   "cell_type": "code",
   "execution_count": null,
   "id": "dd52dbad-9fba-4d93-8fc6-f1730a65dbc3",
   "metadata": {
    "tags": []
   },
   "outputs": [],
   "source": [
    "movies_year.plot()"
   ]
  },
  {
   "cell_type": "markdown",
   "id": "b9000e9a-46eb-4b3d-9078-6b1c6b56ffd9",
   "metadata": {},
   "source": [
    "## Trend of movies and tv shows (Copy from kaggle)"
   ]
  },
  {
   "cell_type": "code",
   "execution_count": null,
   "id": "561ab858-012f-48a8-a76a-8428fcf24f64",
   "metadata": {
    "tags": []
   },
   "outputs": [],
   "source": [
    "# Create a new figure and axes\n",
    "fig, ax = plt.subplots()\n",
    "\n",
    "# Filter the DataFrame by 'Movie' type and plot the data\n",
    "movies_tv_shows[movies_tv_shows['type'] == 'Movie'].plot(ax=ax, y='count', label='Movie')\n",
    "\n",
    "# Filter the DataFrame by 'TV Show' type and plot the data on the same axes\n",
    "movies_tv_shows[movies_tv_shows['type'] == 'TV Show'].plot(ax=ax, y='count', label='TV Show')\n",
    "\n",
    "# Add a legend to the plot\n",
    "ax.legend()\n",
    "\n",
    "plt.ylabel('No of titles')\n",
    "plt.xlabel('Year added to Netflix')\n",
    "\n",
    "plt.title('Release Trend over the Years')\n",
    "\n",
    "# Show the plot\n",
    "plt.show()"
   ]
  },
  {
   "cell_type": "code",
   "execution_count": null,
   "id": "2336a8b2-03b0-4702-a821-984342481003",
   "metadata": {},
   "outputs": [],
   "source": []
  },
  {
   "cell_type": "code",
   "execution_count": null,
   "id": "a99b302d-05b4-4882-8bac-89566fb70eb6",
   "metadata": {},
   "outputs": [],
   "source": []
  }
 ],
 "metadata": {
  "kernelspec": {
   "display_name": "Python 3 (ipykernel)",
   "language": "python",
   "name": "python3"
  },
  "language_info": {
   "codemirror_mode": {
    "name": "ipython",
    "version": 3
   },
   "file_extension": ".py",
   "mimetype": "text/x-python",
   "name": "python",
   "nbconvert_exporter": "python",
   "pygments_lexer": "ipython3",
   "version": "3.11.1"
  }
 },
 "nbformat": 4,
 "nbformat_minor": 5
}
