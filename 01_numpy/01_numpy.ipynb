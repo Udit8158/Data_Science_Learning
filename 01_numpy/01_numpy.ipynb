{
 "cells": [
  {
   "cell_type": "markdown",
   "id": "58fd473a",
   "metadata": {},
   "source": [
    "# Learning Numpy\n"
   ]
  },
  {
   "cell_type": "code",
   "execution_count": 1,
   "id": "1433695e",
   "metadata": {},
   "outputs": [],
   "source": [
    "import numpy as np"
   ]
  },
  {
   "cell_type": "code",
   "execution_count": 97,
   "id": "c9342d20",
   "metadata": {},
   "outputs": [],
   "source": [
    "myArr = np.array([[1,23,45,21]], dtype=np.int8) # 2d array and also can set datatype -> int8 => means 8 bits (small) integer"
   ]
  },
  {
   "cell_type": "code",
   "execution_count": 99,
   "id": "fdee6b0b",
   "metadata": {},
   "outputs": [
    {
     "data": {
      "text/plain": [
       "dtype('int8')"
      ]
     },
     "execution_count": 99,
     "metadata": {},
     "output_type": "execute_result"
    }
   ],
   "source": [
    "myArr.dtype"
   ]
  },
  {
   "cell_type": "code",
   "execution_count": 4,
   "id": "96d74758",
   "metadata": {},
   "outputs": [
    {
     "data": {
      "text/plain": [
       "numpy.ndarray"
      ]
     },
     "execution_count": 4,
     "metadata": {},
     "output_type": "execute_result"
    }
   ],
   "source": [
    "type(myArr)"
   ]
  },
  {
   "cell_type": "code",
   "execution_count": 5,
   "id": "0bc198ae",
   "metadata": {
    "tags": []
   },
   "outputs": [
    {
     "data": {
      "text/plain": [
       "2"
      ]
     },
     "execution_count": 5,
     "metadata": {},
     "output_type": "execute_result"
    }
   ],
   "source": [
    "myArr.ndim"
   ]
  },
  {
   "cell_type": "code",
   "execution_count": 6,
   "id": "b9cfc74a",
   "metadata": {},
   "outputs": [
    {
     "data": {
      "text/plain": [
       "45"
      ]
     },
     "execution_count": 6,
     "metadata": {},
     "output_type": "execute_result"
    }
   ],
   "source": [
    "myArr[0,2] # 1st row 3rd col element access element of 2d array or matrix"
   ]
  },
  {
   "cell_type": "code",
   "execution_count": 7,
   "id": "cc71f20a",
   "metadata": {},
   "outputs": [
    {
     "data": {
      "text/plain": [
       "dtype('int64')"
      ]
     },
     "execution_count": 7,
     "metadata": {},
     "output_type": "execute_result"
    }
   ],
   "source": [
    "myArr.dtype"
   ]
  },
  {
   "cell_type": "markdown",
   "id": "968e6640-bd68-4add-ab9a-4503f1dc7515",
   "metadata": {},
   "source": [
    "## Matrix (2-D Array)"
   ]
  },
  {
   "cell_type": "code",
   "execution_count": 10,
   "id": "7aa99277-9bb9-45d4-9f33-d83c9f82d9e8",
   "metadata": {
    "tags": []
   },
   "outputs": [],
   "source": [
    "A = np.array([\n",
    "    [3,2,5],\n",
    "    [4,6,1],\n",
    "    [7,9,3]\n",
    "])"
   ]
  },
  {
   "cell_type": "code",
   "execution_count": 12,
   "id": "d84b5b11-c1a1-42c8-8eda-16faf39de7ea",
   "metadata": {
    "tags": []
   },
   "outputs": [
    {
     "data": {
      "text/plain": [
       "array([[3, 2, 5],\n",
       "       [4, 6, 1],\n",
       "       [7, 9, 3]])"
      ]
     },
     "execution_count": 12,
     "metadata": {},
     "output_type": "execute_result"
    }
   ],
   "source": [
    "A"
   ]
  },
  {
   "cell_type": "code",
   "execution_count": 13,
   "id": "fe69354a-60fb-4db1-8a8d-7e5ab1d5dc92",
   "metadata": {
    "tags": []
   },
   "outputs": [
    {
     "data": {
      "text/plain": [
       "(3, 3)"
      ]
     },
     "execution_count": 13,
     "metadata": {},
     "output_type": "execute_result"
    }
   ],
   "source": [
    "A.shape"
   ]
  },
  {
   "cell_type": "code",
   "execution_count": 14,
   "id": "9197d954-a98a-434c-8dd5-50c8e17e268e",
   "metadata": {
    "tags": []
   },
   "outputs": [
    {
     "data": {
      "text/plain": [
       "2"
      ]
     },
     "execution_count": 14,
     "metadata": {},
     "output_type": "execute_result"
    }
   ],
   "source": [
    "A.ndim"
   ]
  },
  {
   "cell_type": "markdown",
   "id": "d9da3cbb-2cd6-4d4b-ab33-aebec239c4f9",
   "metadata": {},
   "source": [
    "### Matrix Slicing"
   ]
  },
  {
   "cell_type": "code",
   "execution_count": 15,
   "id": "dce2d5c8-ad67-474b-a5ac-4230c84bcfc0",
   "metadata": {
    "tags": []
   },
   "outputs": [
    {
     "data": {
      "text/plain": [
       "9"
      ]
     },
     "execution_count": 15,
     "metadata": {},
     "output_type": "execute_result"
    }
   ],
   "source": [
    "A[2,1] # access element from 2-D array"
   ]
  },
  {
   "cell_type": "code",
   "execution_count": 16,
   "id": "67d4bd84-2ea0-4795-a936-ebfee9d19b2f",
   "metadata": {
    "tags": []
   },
   "outputs": [
    {
     "data": {
      "text/plain": [
       "array([[3, 2, 5],\n",
       "       [4, 6, 1]])"
      ]
     },
     "execution_count": 16,
     "metadata": {},
     "output_type": "execute_result"
    }
   ],
   "source": [
    "A[0:2] # row -> 0 and 1 col full"
   ]
  },
  {
   "cell_type": "code",
   "execution_count": 17,
   "id": "4d228b68-a523-4a04-83bc-26616c9fd967",
   "metadata": {
    "tags": []
   },
   "outputs": [
    {
     "data": {
      "text/plain": [
       "array([[3],\n",
       "       [4]])"
      ]
     },
     "execution_count": 17,
     "metadata": {},
     "output_type": "execute_result"
    }
   ],
   "source": [
    "A[0:2,0:1] # row -> 0 and 1 but col only 0"
   ]
  },
  {
   "cell_type": "code",
   "execution_count": 20,
   "id": "d47ddb59-a8fc-444b-a21d-bb60aa85cda4",
   "metadata": {
    "tags": []
   },
   "outputs": [
    {
     "data": {
      "text/plain": [
       "array([[3, 4, 7],\n",
       "       [2, 6, 9],\n",
       "       [5, 1, 3]])"
      ]
     },
     "execution_count": 20,
     "metadata": {},
     "output_type": "execute_result"
    }
   ],
   "source": [
    "A.transpose()"
   ]
  },
  {
   "cell_type": "code",
   "execution_count": 21,
   "id": "6e8a05a1-3e0f-48c9-9637-c3fdc69b62bc",
   "metadata": {
    "tags": []
   },
   "outputs": [
    {
     "data": {
      "text/plain": [
       "array([[3, 2, 5],\n",
       "       [4, 6, 1],\n",
       "       [7, 9, 3]])"
      ]
     },
     "execution_count": 21,
     "metadata": {},
     "output_type": "execute_result"
    }
   ],
   "source": [
    "A"
   ]
  },
  {
   "cell_type": "code",
   "execution_count": 23,
   "id": "a8785be4-236f-4c72-85c9-a6334b071fa8",
   "metadata": {
    "tags": []
   },
   "outputs": [
    {
     "data": {
      "text/plain": [
       "12"
      ]
     },
     "execution_count": 23,
     "metadata": {},
     "output_type": "execute_result"
    }
   ],
   "source": [
    "A.trace()"
   ]
  },
  {
   "cell_type": "markdown",
   "id": "70fd4136-e8e6-46a7-8722-8cfe9ede3ce9",
   "metadata": {},
   "source": [
    "## Axis System"
   ]
  },
  {
   "cell_type": "code",
   "execution_count": 24,
   "id": "3cfda863-eb06-437a-92bd-db76694435ab",
   "metadata": {
    "tags": []
   },
   "outputs": [],
   "source": [
    "a = np.array([12,34,11,67])"
   ]
  },
  {
   "cell_type": "code",
   "execution_count": 25,
   "id": "34748851-8e12-472e-9bc0-465ef8196ac8",
   "metadata": {
    "tags": []
   },
   "outputs": [
    {
     "data": {
      "text/plain": [
       "array([12, 34, 11, 67])"
      ]
     },
     "execution_count": 25,
     "metadata": {},
     "output_type": "execute_result"
    }
   ],
   "source": [
    "a"
   ]
  },
  {
   "cell_type": "code",
   "execution_count": 29,
   "id": "8754ad84-70e9-4323-88c1-611adac3b99a",
   "metadata": {
    "tags": []
   },
   "outputs": [
    {
     "data": {
      "text/plain": [
       "124"
      ]
     },
     "execution_count": 29,
     "metadata": {},
     "output_type": "execute_result"
    }
   ],
   "source": [
    "a.sum() # for 1-D array only 1 axis -> axis=0 (row or horizontal)"
   ]
  },
  {
   "cell_type": "code",
   "execution_count": 30,
   "id": "0432ee58-38af-4af8-8b33-fd281767fe4d",
   "metadata": {
    "tags": []
   },
   "outputs": [
    {
     "data": {
      "text/plain": [
       "array([[3, 2, 5],\n",
       "       [4, 6, 1],\n",
       "       [7, 9, 3]])"
      ]
     },
     "execution_count": 30,
     "metadata": {},
     "output_type": "execute_result"
    }
   ],
   "source": [
    "A"
   ]
  },
  {
   "cell_type": "code",
   "execution_count": 31,
   "id": "f1f26e38-93d1-4704-a6d3-bcaaa1677f45",
   "metadata": {
    "tags": []
   },
   "outputs": [
    {
     "data": {
      "text/plain": [
       "40"
      ]
     },
     "execution_count": 31,
     "metadata": {},
     "output_type": "execute_result"
    }
   ],
   "source": [
    "A.sum() # sum of all element horizontal axis (Axis =1 ) "
   ]
  },
  {
   "cell_type": "code",
   "execution_count": 32,
   "id": "0d529f95-c6b1-457c-a701-f6344edab2bf",
   "metadata": {
    "tags": []
   },
   "outputs": [
    {
     "data": {
      "text/plain": [
       "array([14, 17,  9])"
      ]
     },
     "execution_count": 32,
     "metadata": {},
     "output_type": "execute_result"
    }
   ],
   "source": [
    "A.sum(axis=0) # for non 1-D array axis=0 => col (vertical) and axis=1 => row (horizontal)"
   ]
  },
  {
   "cell_type": "code",
   "execution_count": 33,
   "id": "54306886-9c8d-4297-9bce-2df6422060e4",
   "metadata": {
    "tags": []
   },
   "outputs": [
    {
     "data": {
      "text/plain": [
       "array([10, 11, 19])"
      ]
     },
     "execution_count": 33,
     "metadata": {},
     "output_type": "execute_result"
    }
   ],
   "source": [
    "A.sum(axis=1)"
   ]
  },
  {
   "cell_type": "markdown",
   "id": "db2fab78-259a-4bcf-b4f1-72e3f85034ba",
   "metadata": {},
   "source": [
    "### Broadcasting and Vectorized operations"
   ]
  },
  {
   "cell_type": "code",
   "execution_count": 34,
   "id": "569b3091-461b-418a-a5c0-e505e93df7d5",
   "metadata": {
    "tags": []
   },
   "outputs": [
    {
     "data": {
      "text/plain": [
       "array([12, 34, 11, 67])"
      ]
     },
     "execution_count": 34,
     "metadata": {},
     "output_type": "execute_result"
    }
   ],
   "source": [
    "a"
   ]
  },
  {
   "cell_type": "code",
   "execution_count": 35,
   "id": "99918c01-efd1-4aab-95f4-477e6aad4831",
   "metadata": {
    "tags": []
   },
   "outputs": [
    {
     "data": {
      "text/plain": [
       "array([14, 36, 13, 69])"
      ]
     },
     "execution_count": 35,
     "metadata": {},
     "output_type": "execute_result"
    }
   ],
   "source": [
    "a + 2 # Add 2 with all of elem"
   ]
  },
  {
   "cell_type": "code",
   "execution_count": 36,
   "id": "f07d662e-5a02-4075-b7e9-5e5833957f0a",
   "metadata": {
    "tags": []
   },
   "outputs": [
    {
     "data": {
      "text/plain": [
       "array([[3, 2, 5],\n",
       "       [4, 6, 1],\n",
       "       [7, 9, 3]])"
      ]
     },
     "execution_count": 36,
     "metadata": {},
     "output_type": "execute_result"
    }
   ],
   "source": [
    "A"
   ]
  },
  {
   "cell_type": "code",
   "execution_count": 37,
   "id": "41fec2df-f4a8-4110-8a31-80da837ab729",
   "metadata": {
    "tags": []
   },
   "outputs": [
    {
     "data": {
      "text/plain": [
       "array([[ 9,  6, 15],\n",
       "       [12, 18,  3],\n",
       "       [21, 27,  9]])"
      ]
     },
     "execution_count": 37,
     "metadata": {},
     "output_type": "execute_result"
    }
   ],
   "source": [
    "A * 3"
   ]
  },
  {
   "cell_type": "code",
   "execution_count": 43,
   "id": "ce4f5350-8bfe-4f6d-b984-3edcf53d9b51",
   "metadata": {
    "tags": []
   },
   "outputs": [],
   "source": [
    "a = np.arange(5) # arrange -> range in normal python"
   ]
  },
  {
   "cell_type": "code",
   "execution_count": 44,
   "id": "e699eaf2-0cc6-42e7-a77b-304a8f4d9f74",
   "metadata": {
    "tags": []
   },
   "outputs": [
    {
     "data": {
      "text/plain": [
       "array([0, 1, 2, 3, 4])"
      ]
     },
     "execution_count": 44,
     "metadata": {},
     "output_type": "execute_result"
    }
   ],
   "source": [
    "a"
   ]
  },
  {
   "cell_type": "markdown",
   "id": "de739aed-2bed-4a80-9464-954ca58dcd6c",
   "metadata": {},
   "source": [
    "## Bolean Operation"
   ]
  },
  {
   "cell_type": "code",
   "execution_count": 45,
   "id": "67273726-869f-4bbb-b3b3-e21c8d6f45cf",
   "metadata": {
    "tags": []
   },
   "outputs": [
    {
     "data": {
      "text/plain": [
       "array([0, 1, 2, 3, 4])"
      ]
     },
     "execution_count": 45,
     "metadata": {},
     "output_type": "execute_result"
    }
   ],
   "source": [
    "a"
   ]
  },
  {
   "cell_type": "code",
   "execution_count": 46,
   "id": "77925325-6744-421d-bb7b-565a2642635a",
   "metadata": {
    "tags": []
   },
   "outputs": [
    {
     "data": {
      "text/plain": [
       "array([False, False,  True,  True,  True])"
      ]
     },
     "execution_count": 46,
     "metadata": {},
     "output_type": "execute_result"
    }
   ],
   "source": [
    "a >= 2"
   ]
  },
  {
   "cell_type": "code",
   "execution_count": 95,
   "id": "ecb885e8-77bf-4c34-8dd9-1cd5de06bca5",
   "metadata": {
    "tags": []
   },
   "outputs": [
    {
     "data": {
      "text/plain": [
       "array([2, 3, 4])"
      ]
     },
     "execution_count": 95,
     "metadata": {},
     "output_type": "execute_result"
    }
   ],
   "source": [
    "a[a>=2] # which elem satisfy the condition "
   ]
  },
  {
   "cell_type": "code",
   "execution_count": 94,
   "id": "6dfb92ee-1e08-45b3-922c-3b77fc2c1054",
   "metadata": {
    "tags": []
   },
   "outputs": [],
   "source": [
    "import random"
   ]
  },
  {
   "cell_type": "code",
   "execution_count": 80,
   "id": "de1b30c4-6ffb-4413-a54c-c9adebd48525",
   "metadata": {
    "tags": []
   },
   "outputs": [],
   "source": [
    "A = np.random.randint(100, size=(3, 3)) # generate a random numpy array whose range -> 0 to 100"
   ]
  },
  {
   "cell_type": "code",
   "execution_count": 90,
   "id": "e6209f34-8e31-4787-ad05-75ed14192b13",
   "metadata": {
    "tags": []
   },
   "outputs": [
    {
     "data": {
      "text/plain": [
       "array([[49, 44, 76],\n",
       "       [75, 87, 32],\n",
       "       [96, 64, 84]])"
      ]
     },
     "execution_count": 90,
     "metadata": {},
     "output_type": "execute_result"
    }
   ],
   "source": [
    "A"
   ]
  },
  {
   "cell_type": "code",
   "execution_count": 79,
   "id": "fb6cc487-dfb6-452e-95ae-923310156d23",
   "metadata": {
    "tags": []
   },
   "outputs": [
    {
     "data": {
      "text/plain": [
       "61"
      ]
     },
     "execution_count": 79,
     "metadata": {},
     "output_type": "execute_result"
    }
   ],
   "source": [
    "random.randint(0,100)"
   ]
  },
  {
   "cell_type": "code",
   "execution_count": 91,
   "id": "227f7cf8-9831-45e7-9019-712cfea68846",
   "metadata": {
    "tags": []
   },
   "outputs": [
    {
     "data": {
      "text/plain": [
       "dtype('int64')"
      ]
     },
     "execution_count": 91,
     "metadata": {},
     "output_type": "execute_result"
    }
   ],
   "source": [
    "A.dtype"
   ]
  },
  {
   "cell_type": "code",
   "execution_count": null,
   "id": "4adbbd4e-b4d3-4dbf-9463-9585c29e5dd5",
   "metadata": {},
   "outputs": [],
   "source": []
  }
 ],
 "metadata": {
  "kernelspec": {
   "display_name": "Python 3 (ipykernel)",
   "language": "python",
   "name": "python3"
  },
  "language_info": {
   "codemirror_mode": {
    "name": "ipython",
    "version": 3
   },
   "file_extension": ".py",
   "mimetype": "text/x-python",
   "name": "python",
   "nbconvert_exporter": "python",
   "pygments_lexer": "ipython3",
   "version": "3.11.1"
  }
 },
 "nbformat": 4,
 "nbformat_minor": 5
}
