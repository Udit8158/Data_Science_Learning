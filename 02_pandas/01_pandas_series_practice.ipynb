{
 "cells": [
  {
   "cell_type": "markdown",
   "id": "b652f089-1a22-473f-8299-137d4f1c24e7",
   "metadata": {},
   "source": [
    "# Pandas Series"
   ]
  },
  {
   "cell_type": "code",
   "execution_count": 1,
   "id": "b4660ee8-4819-4c99-a549-f59e44a97206",
   "metadata": {
    "tags": []
   },
   "outputs": [],
   "source": [
    "import pandas as pd\n",
    "import numpy as np"
   ]
  },
  {
   "cell_type": "code",
   "execution_count": 12,
   "id": "7375ddb0-a5f2-4608-8b74-9ab91232453a",
   "metadata": {
    "tags": []
   },
   "outputs": [],
   "source": [
    "marks = pd.Series({\n",
    "    \"Jack\": 89,\n",
    "    \"Jhon\": 82,\n",
    "    \"Jim\": 72,\n",
    "    \"Roy\": 21,\n",
    "    \"Biks\": 34,\n",
    "    \"Jonathon\": 49,\n",
    "    \"James\": 92,\n",
    "    \"Rocky\": 56\n",
    "}, name=\"Marks in percentage\")"
   ]
  },
  {
   "cell_type": "code",
   "execution_count": 13,
   "id": "81dadf14-a36b-4ca5-a599-cba2b862a1d6",
   "metadata": {
    "tags": []
   },
   "outputs": [
    {
     "data": {
      "text/plain": [
       "Jack        89\n",
       "Jhon        82\n",
       "Jim         72\n",
       "Roy         21\n",
       "Biks        34\n",
       "Jonathon    49\n",
       "James       92\n",
       "Rocky       56\n",
       "Name: Marks in percentage, dtype: int64"
      ]
     },
     "execution_count": 13,
     "metadata": {},
     "output_type": "execute_result"
    }
   ],
   "source": [
    "marks"
   ]
  },
  {
   "cell_type": "code",
   "execution_count": 15,
   "id": "97708dcb-8e43-4c49-a152-ea52e3737b9a",
   "metadata": {
    "tags": []
   },
   "outputs": [
    {
     "data": {
      "text/plain": [
       "Jack        89\n",
       "Jhon        82\n",
       "Jim         72\n",
       "Roy         21\n",
       "Biks        34\n",
       "Jonathon    49\n",
       "James       92\n",
       "Rocky       56\n",
       "Name: Marks in percentage, dtype: int64"
      ]
     },
     "execution_count": 15,
     "metadata": {},
     "output_type": "execute_result"
    }
   ],
   "source": [
    "marks.dtype\n",
    "marks"
   ]
  },
  {
   "cell_type": "markdown",
   "id": "d338e334-5814-46c8-8f05-e4d07f135a19",
   "metadata": {},
   "source": [
    "## Access element from pandas series"
   ]
  },
  {
   "cell_type": "code",
   "execution_count": 16,
   "id": "eeb7aa8e-932e-4df7-b44b-8e8156f4a7d7",
   "metadata": {
    "tags": []
   },
   "outputs": [
    {
     "data": {
      "text/plain": [
       "89"
      ]
     },
     "execution_count": 16,
     "metadata": {},
     "output_type": "execute_result"
    }
   ],
   "source": [
    "marks[0]"
   ]
  },
  {
   "cell_type": "code",
   "execution_count": 17,
   "id": "23ce4742-6295-44cf-a40f-6db742e8f639",
   "metadata": {
    "tags": []
   },
   "outputs": [
    {
     "data": {
      "text/plain": [
       "array([89, 82, 72, 21, 34, 49, 92, 56])"
      ]
     },
     "execution_count": 17,
     "metadata": {},
     "output_type": "execute_result"
    }
   ],
   "source": [
    "marks.values"
   ]
  },
  {
   "cell_type": "code",
   "execution_count": 18,
   "id": "1b2e6876-fb9b-4f29-b41d-99f96cbd17f1",
   "metadata": {
    "tags": []
   },
   "outputs": [
    {
     "data": {
      "text/plain": [
       "21"
      ]
     },
     "execution_count": 18,
     "metadata": {},
     "output_type": "execute_result"
    }
   ],
   "source": [
    "marks[\"Roy\"]"
   ]
  },
  {
   "cell_type": "code",
   "execution_count": 20,
   "id": "b313fb25-040e-4820-95e4-ecf4a54efb10",
   "metadata": {
    "tags": []
   },
   "outputs": [
    {
     "data": {
      "text/plain": [
       "Jack     89\n",
       "Jhon     82\n",
       "Jim      72\n",
       "James    92\n",
       "Name: Marks in percentage, dtype: int64"
      ]
     },
     "execution_count": 20,
     "metadata": {},
     "output_type": "execute_result"
    }
   ],
   "source": [
    "marks[marks > 70 ] # Using boolean operator in pandas series like numpy arrays"
   ]
  },
  {
   "cell_type": "code",
   "execution_count": 21,
   "id": "36c5f46f-e2e3-47cf-b59e-6639f736c6ff",
   "metadata": {
    "tags": []
   },
   "outputs": [
    {
     "data": {
      "text/plain": [
       "Jack        89\n",
       "Jhon        82\n",
       "Jim         72\n",
       "Roy         21\n",
       "Biks        34\n",
       "Jonathon    49\n",
       "James       92\n",
       "Name: Marks in percentage, dtype: int64"
      ]
     },
     "execution_count": 21,
     "metadata": {},
     "output_type": "execute_result"
    }
   ],
   "source": [
    "marks[\"Jack\": \"James\"] # here in the time of slicing its include the last index of slicing\n"
   ]
  },
  {
   "cell_type": "code",
   "execution_count": 22,
   "id": "2dcf84da-21db-4999-8864-55ba7244be4d",
   "metadata": {
    "tags": []
   },
   "outputs": [
    {
     "data": {
      "text/plain": [
       "Roy      21\n",
       "James    92\n",
       "Name: Marks in percentage, dtype: int64"
      ]
     },
     "execution_count": 22,
     "metadata": {},
     "output_type": "execute_result"
    }
   ],
   "source": [
    "marks[[\"Roy\",\"James\"]] # multiindexing"
   ]
  },
  {
   "cell_type": "code",
   "execution_count": 32,
   "id": "3317d634-c94f-4482-be8e-25ff6af8d693",
   "metadata": {
    "tags": []
   },
   "outputs": [
    {
     "data": {
      "text/plain": [
       "Roy         21\n",
       "Biks        34\n",
       "Jonathon    49\n",
       "James       92\n",
       "Name: Marks in percentage, dtype: int64"
      ]
     },
     "execution_count": 32,
     "metadata": {},
     "output_type": "execute_result"
    }
   ],
   "source": [
    "marks[\"Roy\": \"James\"] # slicing"
   ]
  },
  {
   "cell_type": "code",
   "execution_count": 33,
   "id": "be302d7a-37b8-4e32-8a55-c46c67568ae7",
   "metadata": {
    "tags": []
   },
   "outputs": [
    {
     "data": {
      "text/plain": [
       "Roy         21\n",
       "Jonathon    49\n",
       "Name: Marks in percentage, dtype: int64"
      ]
     },
     "execution_count": 33,
     "metadata": {},
     "output_type": "execute_result"
    }
   ],
   "source": [
    "marks[[3,5]] # multiindexing"
   ]
  },
  {
   "cell_type": "code",
   "execution_count": 34,
   "id": "ef9d3ced-6403-444e-b349-7406bbaf4a6b",
   "metadata": {
    "tags": []
   },
   "outputs": [
    {
     "data": {
      "text/plain": [
       "Roy     21\n",
       "Biks    34\n",
       "Name: Marks in percentage, dtype: int64"
      ]
     },
     "execution_count": 34,
     "metadata": {},
     "output_type": "execute_result"
    }
   ],
   "source": [
    "marks[3:5] # slicing"
   ]
  },
  {
   "cell_type": "code",
   "execution_count": 35,
   "id": "1109be8a-bf29-4d64-bd43-b1e02d554aaf",
   "metadata": {
    "tags": []
   },
   "outputs": [
    {
     "data": {
      "text/plain": [
       "Jack        89\n",
       "Jhon        82\n",
       "Jim         72\n",
       "Roy         21\n",
       "Biks        34\n",
       "Jonathon    49\n",
       "James       92\n",
       "Rocky       56\n",
       "Name: Marks in percentage, dtype: int64"
      ]
     },
     "execution_count": 35,
     "metadata": {},
     "output_type": "execute_result"
    }
   ],
   "source": [
    "marks"
   ]
  },
  {
   "cell_type": "code",
   "execution_count": 39,
   "id": "c49e1349-a328-42a1-b7d5-ffa569202580",
   "metadata": {
    "tags": []
   },
   "outputs": [
    {
     "data": {
      "text/plain": [
       "Jack    89\n",
       "Jhon    82\n",
       "Jim     72\n",
       "Name: Marks in percentage, dtype: int64"
      ]
     },
     "execution_count": 39,
     "metadata": {},
     "output_type": "execute_result"
    }
   ],
   "source": [
    "marks[(marks > 70) & (marks < 90)] # boolean operation"
   ]
  },
  {
   "cell_type": "code",
   "execution_count": 40,
   "id": "d0dbd290-37b5-4a26-9e76-23bc8b033325",
   "metadata": {
    "tags": []
   },
   "outputs": [
    {
     "data": {
      "text/plain": [
       "Jack        89\n",
       "Jhon        82\n",
       "Jim         72\n",
       "Roy         21\n",
       "Biks        34\n",
       "Jonathon    49\n",
       "James       92\n",
       "Rocky       56\n",
       "Name: Marks in percentage, dtype: int64"
      ]
     },
     "execution_count": 40,
     "metadata": {},
     "output_type": "execute_result"
    }
   ],
   "source": [
    "marks"
   ]
  },
  {
   "cell_type": "code",
   "execution_count": 45,
   "id": "0bdff216-55f3-4429-ad33-dfe73a4b6b23",
   "metadata": {
    "tags": []
   },
   "outputs": [],
   "source": [
    "marks[marks > 70] += 5 # means -> add 5 to the conditional elements"
   ]
  },
  {
   "cell_type": "code",
   "execution_count": 46,
   "id": "a5d122de-9f5c-4e04-877a-5d95a4099fcb",
   "metadata": {
    "tags": []
   },
   "outputs": [
    {
     "data": {
      "text/plain": [
       "Jack         99\n",
       "Jhon         92\n",
       "Jim          82\n",
       "Roy          21\n",
       "Biks         34\n",
       "Jonathon     49\n",
       "James       102\n",
       "Rocky        56\n",
       "Name: Marks in percentage, dtype: int64"
      ]
     },
     "execution_count": 46,
     "metadata": {},
     "output_type": "execute_result"
    }
   ],
   "source": [
    "marks"
   ]
  },
  {
   "cell_type": "code",
   "execution_count": 48,
   "id": "842c9dc1-069a-4711-92ae-0140f306b32c",
   "metadata": {
    "tags": []
   },
   "outputs": [
    {
     "data": {
      "text/plain": [
       "'1.5.3'"
      ]
     },
     "execution_count": 48,
     "metadata": {},
     "output_type": "execute_result"
    }
   ],
   "source": [
    "pd.__version__"
   ]
  },
  {
   "cell_type": "code",
   "execution_count": 50,
   "id": "fd4c4484-48f7-4aa7-8da5-6ce7feaf2ea0",
   "metadata": {
    "tags": []
   },
   "outputs": [
    {
     "data": {
      "text/plain": [
       "Jhon         92\n",
       "Jim          82\n",
       "Roy          21\n",
       "Biks         34\n",
       "Jonathon     49\n",
       "James       102\n",
       "Name: Marks in percentage, dtype: int64"
      ]
     },
     "execution_count": 50,
     "metadata": {},
     "output_type": "execute_result"
    }
   ],
   "source": [
    "marks[1:-1] # for this last index is excluded"
   ]
  },
  {
   "cell_type": "code",
   "execution_count": 51,
   "id": "4fbeb471-b4e5-4f76-8137-1ce7b040861b",
   "metadata": {
    "tags": []
   },
   "outputs": [
    {
     "data": {
      "text/plain": [
       "Jhon         92\n",
       "Jim          82\n",
       "Roy          21\n",
       "Biks         34\n",
       "Jonathon     49\n",
       "James       102\n",
       "Rocky        56\n",
       "Name: Marks in percentage, dtype: int64"
      ]
     },
     "execution_count": 51,
     "metadata": {},
     "output_type": "execute_result"
    }
   ],
   "source": [
    "marks[\"Jhon\": \"Rocky\"] # for this last index is included"
   ]
  },
  {
   "cell_type": "code",
   "execution_count": 59,
   "id": "61749915-87b4-4aea-b538-3e2cbf46f1e7",
   "metadata": {
    "tags": []
   },
   "outputs": [
    {
     "data": {
      "text/plain": [
       "Jack         99\n",
       "Jhon         92\n",
       "Jim          82\n",
       "Roy          21\n",
       "Biks         34\n",
       "Jonathon     49\n",
       "James       102\n",
       "Rocky        56\n",
       "Name: Marks in percentage, dtype: int64"
      ]
     },
     "execution_count": 59,
     "metadata": {},
     "output_type": "execute_result"
    }
   ],
   "source": [
    "marks"
   ]
  },
  {
   "cell_type": "code",
   "execution_count": 61,
   "id": "a8196184-1127-491a-a3bc-afb64c6409cf",
   "metadata": {
    "tags": []
   },
   "outputs": [
    {
     "data": {
      "text/plain": [
       "99"
      ]
     },
     "execution_count": 61,
     "metadata": {},
     "output_type": "execute_result"
    }
   ],
   "source": [
    "marks.iloc[0]"
   ]
  },
  {
   "cell_type": "code",
   "execution_count": 62,
   "id": "95d03b9d-a9b7-469e-bf42-ba0e6b8dbed7",
   "metadata": {
    "tags": []
   },
   "outputs": [
    {
     "data": {
      "text/plain": [
       "99"
      ]
     },
     "execution_count": 62,
     "metadata": {},
     "output_type": "execute_result"
    }
   ],
   "source": [
    "marks.loc[\"Jack\"]"
   ]
  },
  {
   "cell_type": "code",
   "execution_count": null,
   "id": "cd8d66c9-1df7-4a2d-a59b-04b8e670d23b",
   "metadata": {},
   "outputs": [],
   "source": []
  }
 ],
 "metadata": {
  "kernelspec": {
   "display_name": "Python 3 (ipykernel)",
   "language": "python",
   "name": "python3"
  },
  "language_info": {
   "codemirror_mode": {
    "name": "ipython",
    "version": 3
   },
   "file_extension": ".py",
   "mimetype": "text/x-python",
   "name": "python",
   "nbconvert_exporter": "python",
   "pygments_lexer": "ipython3",
   "version": "3.11.1"
  }
 },
 "nbformat": 4,
 "nbformat_minor": 5
}
